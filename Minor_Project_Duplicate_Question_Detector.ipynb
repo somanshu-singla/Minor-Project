{
  "nbformat": 4,
  "nbformat_minor": 0,
  "metadata": {
    "colab": {
      "name": "Minor Project - Duplicate Question Detector.ipynb",
      "version": "0.3.2",
      "provenance": [],
      "include_colab_link": true
    },
    "kernelspec": {
      "name": "python3",
      "display_name": "Python 3"
    }
  },
  "cells": [
    {
      "cell_type": "markdown",
      "metadata": {
        "id": "view-in-github",
        "colab_type": "text"
      },
      "source": [
        "[View in Colaboratory](https://colab.research.google.com/github/somanshu-singla/Minor-Project/blob/master/Minor_Project_Duplicate_Question_Detector.ipynb)"
      ]
    },
    {
      "metadata": {
        "id": "oa3mR8cxlQXk",
        "colab_type": "code",
        "colab": {}
      },
      "cell_type": "code",
      "source": [
        "# Install the latest Tensorflow version.\n",
        "!pip3 install --quiet \"tensorflow>=1.7\"\n",
        "# Install TF-Hub.\n",
        "!pip3 install --quiet tensorflow-hub\n",
        "# Install other packages.\n",
        "!pip3 install --quiet seaborn\n",
        "# Install SentencePiece package\n",
        "# SentencePiece package is needed for Universal Sentence Encoder Lite. We'll\n",
        "# use it for all the text processing and sentence feature ID lookup.\n",
        "!pip3 install --quiet sentencepiece"
      ],
      "execution_count": 0,
      "outputs": []
    },
    {
      "metadata": {
        "id": "53RQl6g4lXlE",
        "colab_type": "code",
        "colab": {
          "base_uri": "https://localhost:8080/",
          "height": 35
        },
        "outputId": "50a9bdfe-a999-40be-8b27-bf82ec4d55a2"
      },
      "cell_type": "code",
      "source": [
        "# Load the Drive helper and mount\n",
        "from google.colab import drive\n",
        "\n",
        "# This will prompt for authorization.\n",
        "drive.mount('/content/drive')"
      ],
      "execution_count": 61,
      "outputs": [
        {
          "output_type": "stream",
          "text": [
            "Drive already mounted at /content/drive; to attempt to forcibly remount, call drive.mount(\"/content/drive\", force_remount=True).\n"
          ],
          "name": "stdout"
        }
      ]
    },
    {
      "metadata": {
        "id": "YQ0Z41U2lor_",
        "colab_type": "code",
        "colab": {}
      },
      "cell_type": "code",
      "source": [
        "#path for trainig, validation and testing data\n",
        "\n",
        "train_data_file = '/content/drive/My Drive/project/train.csv'\n",
        "validation_data_file = '/content/drive/My Drive/project/train.csv'\n",
        "test_data_file = '/content/drive/My Drive/project/train.csv'"
      ],
      "execution_count": 0,
      "outputs": []
    },
    {
      "metadata": {
        "id": "qxGMa0N1mG0m",
        "colab_type": "code",
        "colab": {
          "base_uri": "https://localhost:8080/",
          "height": 580
        },
        "outputId": "24902007-9c8e-4903-8fd0-77d964e96074"
      },
      "cell_type": "code",
      "source": [
        "import pandas as pd\n",
        "\n",
        "#using pandas to load data from csv file\n",
        "train_data = pd.read_csv(train_data_file)\n",
        "train_data = train_data.iloc[:, 0:6]\n",
        "train_data.columns = [\"id\", \"qid1\", \"qid2\", \"ques1\", \"ques2\", \"is_duplicate\"]\n",
        "\n",
        "validation_data = pd.read_csv(validation_data_file)\n",
        "validation_data = train_data.iloc[:, 0:6]\n",
        "validation_data.columns = [\"id\", \"qid1\", \"qid2\", \"ques1\", \"ques2\", \"is_duplicate\"]\n",
        "\n",
        "#TODO: make change in test data processing\n",
        "test_data = pd.read_csv(test_data_file)\n",
        "test_data = train_data.iloc[:, :6]\n",
        "test_data.columns = [\"id\", \"qid1\", \"qid2\", \"ques1\", \"ques2\", \"is_duplicate\"]\n",
        "\n",
        "#checking the data\n",
        "print(train_data[\"ques1\"][0:10], train_data[\"ques2\"][0:10], train_data[\"is_duplicate\"][0:10])"
      ],
      "execution_count": 63,
      "outputs": [
        {
          "output_type": "stream",
          "text": [
            "0    What is the step by step guide to invest in sh...\n",
            "1    What is the story of Kohinoor (Koh-i-Noor) Dia...\n",
            "2    How can I increase the speed of my internet co...\n",
            "3    Why am I mentally very lonely? How can I solve...\n",
            "4    Which one dissolve in water quikly sugar, salt...\n",
            "5    Astrology: I am a Capricorn Sun Cap moon and c...\n",
            "6                                  Should I buy tiago?\n",
            "7                       How can I be a good geologist?\n",
            "8                      When do you use シ instead of し?\n",
            "9    Motorola (company): Can I hack my Charter Moto...\n",
            "Name: ques1, dtype: object 0    What is the step by step guide to invest in sh...\n",
            "1    What would happen if the Indian government sto...\n",
            "2    How can Internet speed be increased by hacking...\n",
            "3    Find the remainder when [math]23^{24}[/math] i...\n",
            "4              Which fish would survive in salt water?\n",
            "5    I'm a triple Capricorn (Sun, Moon and ascendan...\n",
            "6    What keeps childern active and far from phone ...\n",
            "7            What should I do to be a great geologist?\n",
            "8                When do you use \"&\" instead of \"and\"?\n",
            "9    How do I hack Motorola DCX3400 for free internet?\n",
            "Name: ques2, dtype: object 0    0\n",
            "1    0\n",
            "2    0\n",
            "3    0\n",
            "4    0\n",
            "5    1\n",
            "6    0\n",
            "7    1\n",
            "8    0\n",
            "9    0\n",
            "Name: is_duplicate, dtype: int64\n"
          ],
          "name": "stdout"
        }
      ]
    },
    {
      "metadata": {
        "id": "9j6_WboLG7pZ",
        "colab_type": "code",
        "colab": {
          "base_uri": "https://localhost:8080/",
          "height": 108
        },
        "outputId": "c883905f-01be-4ba8-d36d-45e2c833dc3b"
      },
      "cell_type": "code",
      "source": [
        "import nltk\n",
        "nltk.download('stopwords')\n",
        "from nltk.corpus import stopwords\n",
        "nltk.download('punkt')"
      ],
      "execution_count": 64,
      "outputs": [
        {
          "output_type": "stream",
          "text": [
            "[nltk_data] Downloading package stopwords to /root/nltk_data...\n",
            "[nltk_data]   Package stopwords is already up-to-date!\n",
            "[nltk_data] Downloading package punkt to /root/nltk_data...\n",
            "[nltk_data]   Package punkt is already up-to-date!\n"
          ],
          "name": "stdout"
        },
        {
          "output_type": "execute_result",
          "data": {
            "text/plain": [
              "True"
            ]
          },
          "metadata": {
            "tags": []
          },
          "execution_count": 64
        }
      ]
    },
    {
      "metadata": {
        "id": "F-SFvgFSoz18",
        "colab_type": "code",
        "colab": {}
      },
      "cell_type": "code",
      "source": [
        "from nltk.tokenize import word_tokenize\n",
        "import string\n",
        "\n",
        "def text_preprocess(text):\n",
        "    text = [word.lower() for word in word_tokenize(text) if word not in string.punctuation]\n",
        "    return text"
      ],
      "execution_count": 0,
      "outputs": []
    },
    {
      "metadata": {
        "id": "c94PyE59J8BJ",
        "colab_type": "code",
        "colab": {
          "base_uri": "https://localhost:8080/",
          "height": 35
        },
        "outputId": "a233aeb6-df4e-4538-8cd1-cee7fe79c4a6"
      },
      "cell_type": "code",
      "source": [
        "#testing text_preprocess\n",
        "print(text_preprocess(\"This is Somanshu's notebook!\"))"
      ],
      "execution_count": 66,
      "outputs": [
        {
          "output_type": "stream",
          "text": [
            "['this', 'is', 'somanshu', \"'s\", 'notebook']\n"
          ],
          "name": "stdout"
        }
      ]
    },
    {
      "metadata": {
        "id": "MHCYk7D_KJB3",
        "colab_type": "code",
        "colab": {
          "base_uri": "https://localhost:8080/",
          "height": 73
        },
        "outputId": "7ff66979-5e86-4472-d30a-c3c8f28c7f93"
      },
      "cell_type": "code",
      "source": [
        "train_QUES1_LIST = list(map(lambda text: text_preprocess(text), train_data[\"ques1\"]))\n",
        "train_QUES2_LIST = list(map(lambda text: text_preprocess(text), train_data[\"ques2\"]))\n",
        "\n",
        "validation_QUES1_LIST = list(map(lambda text: text_preprocess(text), validation_data[\"ques1\"]))\n",
        "validation_QUES2_LIST = list(map(lambda text: text_preprocess(text), validation_data[\"ques2\"]))\n",
        "\n",
        "test_QUES1_LIST = list(map(lambda text: text_preprocess(text), test_data[\"ques1\"]))\n",
        "test_QUES2_LIST = list(map(lambda text: text_preprocess(text), test_data[\"ques2\"]))\n",
        "\n",
        "#checking processed list\n",
        "print(train_QUES1_LIST[:3])\n",
        "print(train_QUES2_LIST[:3])"
      ],
      "execution_count": 67,
      "outputs": [
        {
          "output_type": "stream",
          "text": [
            "[['what', 'is', 'the', 'step', 'by', 'step', 'guide', 'to', 'invest', 'in', 'share', 'market', 'in', 'india'], ['what', 'is', 'the', 'story', 'of', 'kohinoor', 'koh-i-noor', 'diamond'], ['how', 'can', 'i', 'increase', 'the', 'speed', 'of', 'my', 'internet', 'connection', 'while', 'using', 'a', 'vpn']]\n",
            "[['what', 'is', 'the', 'step', 'by', 'step', 'guide', 'to', 'invest', 'in', 'share', 'market'], ['what', 'would', 'happen', 'if', 'the', 'indian', 'government', 'stole', 'the', 'kohinoor', 'koh-i-noor', 'diamond', 'back'], ['how', 'can', 'internet', 'speed', 'be', 'increased', 'by', 'hacking', 'through', 'dns']]\n"
          ],
          "name": "stdout"
        }
      ]
    }
  ]
}